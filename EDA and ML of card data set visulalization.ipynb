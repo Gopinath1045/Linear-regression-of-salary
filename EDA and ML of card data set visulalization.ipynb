{
 "cells": [
  {
   "cell_type": "code",
   "execution_count": 1,
   "id": "e36091b9",
   "metadata": {},
   "outputs": [],
   "source": [
    "import pandas as pd\n",
    "import numpy as np\n",
    "import seaborn as sns\n",
    "import matplotlib.pyplot as plt\n",
    "from sklearn.model_selection import train_test_split\n",
    "%matplotlib inline\n",
    "df=pd.read_csv('E:/car data.csv')"
   ]
  },
  {
   "cell_type": "code",
   "execution_count": 2,
   "id": "5d9844c5",
   "metadata": {},
   "outputs": [
    {
     "data": {
      "text/html": [
       "<div>\n",
       "<style scoped>\n",
       "    .dataframe tbody tr th:only-of-type {\n",
       "        vertical-align: middle;\n",
       "    }\n",
       "\n",
       "    .dataframe tbody tr th {\n",
       "        vertical-align: top;\n",
       "    }\n",
       "\n",
       "    .dataframe thead th {\n",
       "        text-align: right;\n",
       "    }\n",
       "</style>\n",
       "<table border=\"1\" class=\"dataframe\">\n",
       "  <thead>\n",
       "    <tr style=\"text-align: right;\">\n",
       "      <th></th>\n",
       "      <th>Car_Name</th>\n",
       "      <th>Year</th>\n",
       "      <th>Selling_Price</th>\n",
       "      <th>Present_Price</th>\n",
       "      <th>Kms_Driven</th>\n",
       "      <th>Fuel_Type</th>\n",
       "      <th>Seller_Type</th>\n",
       "      <th>Transmission</th>\n",
       "      <th>Owner</th>\n",
       "    </tr>\n",
       "  </thead>\n",
       "  <tbody>\n",
       "    <tr>\n",
       "      <th>0</th>\n",
       "      <td>ritz</td>\n",
       "      <td>2014</td>\n",
       "      <td>3.35</td>\n",
       "      <td>5.59</td>\n",
       "      <td>27000</td>\n",
       "      <td>Petrol</td>\n",
       "      <td>Dealer</td>\n",
       "      <td>Manual</td>\n",
       "      <td>0</td>\n",
       "    </tr>\n",
       "    <tr>\n",
       "      <th>1</th>\n",
       "      <td>sx4</td>\n",
       "      <td>2013</td>\n",
       "      <td>4.75</td>\n",
       "      <td>9.54</td>\n",
       "      <td>43000</td>\n",
       "      <td>Diesel</td>\n",
       "      <td>Dealer</td>\n",
       "      <td>Manual</td>\n",
       "      <td>0</td>\n",
       "    </tr>\n",
       "    <tr>\n",
       "      <th>2</th>\n",
       "      <td>ciaz</td>\n",
       "      <td>2017</td>\n",
       "      <td>7.25</td>\n",
       "      <td>9.85</td>\n",
       "      <td>6900</td>\n",
       "      <td>Petrol</td>\n",
       "      <td>Dealer</td>\n",
       "      <td>Manual</td>\n",
       "      <td>0</td>\n",
       "    </tr>\n",
       "    <tr>\n",
       "      <th>3</th>\n",
       "      <td>wagon r</td>\n",
       "      <td>2011</td>\n",
       "      <td>2.85</td>\n",
       "      <td>4.15</td>\n",
       "      <td>5200</td>\n",
       "      <td>Petrol</td>\n",
       "      <td>Dealer</td>\n",
       "      <td>Manual</td>\n",
       "      <td>0</td>\n",
       "    </tr>\n",
       "    <tr>\n",
       "      <th>4</th>\n",
       "      <td>swift</td>\n",
       "      <td>2014</td>\n",
       "      <td>4.60</td>\n",
       "      <td>6.87</td>\n",
       "      <td>42450</td>\n",
       "      <td>Diesel</td>\n",
       "      <td>Dealer</td>\n",
       "      <td>Manual</td>\n",
       "      <td>0</td>\n",
       "    </tr>\n",
       "    <tr>\n",
       "      <th>...</th>\n",
       "      <td>...</td>\n",
       "      <td>...</td>\n",
       "      <td>...</td>\n",
       "      <td>...</td>\n",
       "      <td>...</td>\n",
       "      <td>...</td>\n",
       "      <td>...</td>\n",
       "      <td>...</td>\n",
       "      <td>...</td>\n",
       "    </tr>\n",
       "    <tr>\n",
       "      <th>296</th>\n",
       "      <td>city</td>\n",
       "      <td>2016</td>\n",
       "      <td>9.50</td>\n",
       "      <td>11.60</td>\n",
       "      <td>33988</td>\n",
       "      <td>Diesel</td>\n",
       "      <td>Dealer</td>\n",
       "      <td>Manual</td>\n",
       "      <td>0</td>\n",
       "    </tr>\n",
       "    <tr>\n",
       "      <th>297</th>\n",
       "      <td>brio</td>\n",
       "      <td>2015</td>\n",
       "      <td>4.00</td>\n",
       "      <td>5.90</td>\n",
       "      <td>60000</td>\n",
       "      <td>Petrol</td>\n",
       "      <td>Dealer</td>\n",
       "      <td>Manual</td>\n",
       "      <td>0</td>\n",
       "    </tr>\n",
       "    <tr>\n",
       "      <th>298</th>\n",
       "      <td>city</td>\n",
       "      <td>2009</td>\n",
       "      <td>3.35</td>\n",
       "      <td>11.00</td>\n",
       "      <td>87934</td>\n",
       "      <td>Petrol</td>\n",
       "      <td>Dealer</td>\n",
       "      <td>Manual</td>\n",
       "      <td>0</td>\n",
       "    </tr>\n",
       "    <tr>\n",
       "      <th>299</th>\n",
       "      <td>city</td>\n",
       "      <td>2017</td>\n",
       "      <td>11.50</td>\n",
       "      <td>12.50</td>\n",
       "      <td>9000</td>\n",
       "      <td>Diesel</td>\n",
       "      <td>Dealer</td>\n",
       "      <td>Manual</td>\n",
       "      <td>0</td>\n",
       "    </tr>\n",
       "    <tr>\n",
       "      <th>300</th>\n",
       "      <td>brio</td>\n",
       "      <td>2016</td>\n",
       "      <td>5.30</td>\n",
       "      <td>5.90</td>\n",
       "      <td>5464</td>\n",
       "      <td>Petrol</td>\n",
       "      <td>Dealer</td>\n",
       "      <td>Manual</td>\n",
       "      <td>0</td>\n",
       "    </tr>\n",
       "  </tbody>\n",
       "</table>\n",
       "<p>301 rows × 9 columns</p>\n",
       "</div>"
      ],
      "text/plain": [
       "    Car_Name  Year  Selling_Price  Present_Price  Kms_Driven Fuel_Type  \\\n",
       "0       ritz  2014           3.35           5.59       27000    Petrol   \n",
       "1        sx4  2013           4.75           9.54       43000    Diesel   \n",
       "2       ciaz  2017           7.25           9.85        6900    Petrol   \n",
       "3    wagon r  2011           2.85           4.15        5200    Petrol   \n",
       "4      swift  2014           4.60           6.87       42450    Diesel   \n",
       "..       ...   ...            ...            ...         ...       ...   \n",
       "296     city  2016           9.50          11.60       33988    Diesel   \n",
       "297     brio  2015           4.00           5.90       60000    Petrol   \n",
       "298     city  2009           3.35          11.00       87934    Petrol   \n",
       "299     city  2017          11.50          12.50        9000    Diesel   \n",
       "300     brio  2016           5.30           5.90        5464    Petrol   \n",
       "\n",
       "    Seller_Type Transmission  Owner  \n",
       "0        Dealer       Manual      0  \n",
       "1        Dealer       Manual      0  \n",
       "2        Dealer       Manual      0  \n",
       "3        Dealer       Manual      0  \n",
       "4        Dealer       Manual      0  \n",
       "..          ...          ...    ...  \n",
       "296      Dealer       Manual      0  \n",
       "297      Dealer       Manual      0  \n",
       "298      Dealer       Manual      0  \n",
       "299      Dealer       Manual      0  \n",
       "300      Dealer       Manual      0  \n",
       "\n",
       "[301 rows x 9 columns]"
      ]
     },
     "execution_count": 2,
     "metadata": {},
     "output_type": "execute_result"
    }
   ],
   "source": [
    "df"
   ]
  },
  {
   "cell_type": "code",
   "execution_count": 3,
   "id": "23539aba",
   "metadata": {},
   "outputs": [
    {
     "data": {
      "text/plain": [
       "<AxesSubplot:xlabel='Owner', ylabel='Selling_Price'>"
      ]
     },
     "execution_count": 3,
     "metadata": {},
     "output_type": "execute_result"
    },
    {
     "data": {
      "image/png": "[encoded data removed]",
      "text/plain": [
       "<Figure size 432x288 with 1 Axes>"
      ]
     },
     "metadata": {
      "needs_background": "light"
     },
     "output_type": "display_data"
    }
   ],
   "source": [
    "sns.barplot(x='Owner',y='Selling_Price',data=df)"
   ]
  },
  {
   "cell_type": "code",
   "execution_count": 4,
   "id": "c64d4be0",
   "metadata": {},
   "outputs": [],
   "source": [
    "#owner 0 is having morenselling price"
   ]
  },
  {
   "cell_type": "code",
   "execution_count": 5,
   "id": "84053245",
   "metadata": {},
   "outputs": [
    {
     "data": {
      "text/plain": [
       "<AxesSubplot:xlabel='Owner', ylabel='Selling_Price'>"
      ]
     },
     "execution_count": 5,
     "metadata": {},
     "output_type": "execute_result"
    },
    {
     "data": {
      "image/png": "[encoded data removed]",
      "text/plain": [
       "<Figure size 432x288 with 1 Axes>"
      ]
     },
     "metadata": {
      "needs_background": "light"
     },
     "output_type": "display_data"
    }
   ],
   "source": [
    "sns.barplot(x='Owner',y='Selling_Price',hue='Fuel_Type',data=df)"
   ]
  },
  {
   "cell_type": "code",
   "execution_count": 6,
   "id": "cf997d35",
   "metadata": {},
   "outputs": [],
   "source": [
    "#owner sells Diesel cars for more cost"
   ]
  },
  {
   "cell_type": "code",
   "execution_count": 8,
   "id": "15111fdb",
   "metadata": {},
   "outputs": [
    {
     "data": {
      "text/plain": [
       "<AxesSubplot:xlabel='Owner', ylabel='Selling_Price'>"
      ]
     },
     "execution_count": 8,
     "metadata": {},
     "output_type": "execute_result"
    },
    {
     "data": {
      "image/png": "[encoded data removed]",
      "text/plain": [
       "<Figure size 432x288 with 1 Axes>"
      ]
     },
     "metadata": {
      "needs_background": "light"
     },
     "output_type": "display_data"
    }
   ],
   "source": [
    "sns.barplot(x='Owner',y='Selling_Price',hue='Seller_Type',data=df)"
   ]
  },
  {
   "cell_type": "code",
   "execution_count": 10,
   "id": "5986dc0b",
   "metadata": {},
   "outputs": [
    {
     "data": {
      "text/plain": [
       "<AxesSubplot:xlabel='Transmission', ylabel='Selling_Price'>"
      ]
     },
     "execution_count": 10,
     "metadata": {},
     "output_type": "execute_result"
    },
    {
     "data": {
      "image/png": "[encoded data removed]",
      "text/plain": [
       "<Figure size 432x288 with 1 Axes>"
      ]
     },
     "metadata": {
      "needs_background": "light"
     },
     "output_type": "display_data"
    }
   ],
   "source": [
    "sns.barplot(x='Transmission',y='Selling_Price',data=df)"
   ]
  },
  {
   "cell_type": "code",
   "execution_count": 16,
   "id": "e478ce92",
   "metadata": {},
   "outputs": [
    {
     "data": {
      "text/plain": [
       "<AxesSubplot:xlabel='Kms_Driven', ylabel='Selling_Price'>"
      ]
     },
     "execution_count": 16,
     "metadata": {},
     "output_type": "execute_result"
    },
    {
     "data": {
      "image/png": "[encoded data removed]",
      "text/plain": [
       "<Figure size 720x720 with 1 Axes>"
      ]
     },
     "metadata": {
      "needs_background": "light"
     },
     "output_type": "display_data"
    }
   ],
   "source": [
    "plt.figure(figsize=(10,10))\n",
    "sns.scatterplot(x='Kms_Driven',y='Selling_Price',data=df)"
   ]
  },
  {
   "cell_type": "code",
   "execution_count": 18,
   "id": "53a70b11",
   "metadata": {},
   "outputs": [
    {
     "data": {
      "text/plain": [
       "<AxesSubplot:xlabel='Kms_Driven', ylabel='Selling_Price'>"
      ]
     },
     "execution_count": 18,
     "metadata": {},
     "output_type": "execute_result"
    },
    {
     "data": {
      "image/png": "[encoded data removed]",
      "text/plain": [
       "<Figure size 432x288 with 1 Axes>"
      ]
     },
     "metadata": {
      "needs_background": "light"
     },
     "output_type": "display_data"
    }
   ],
   "source": [
    "sns.histplot(x='Kms_Driven',y='Selling_Price',data=df)"
   ]
  },
  {
   "cell_type": "code",
   "execution_count": 20,
   "id": "635b7225",
   "metadata": {},
   "outputs": [
    {
     "data": {
      "text/plain": [
       "<seaborn.axisgrid.PairGrid at 0x5125292d90>"
      ]
     },
     "execution_count": 20,
     "metadata": {},
     "output_type": "execute_result"
    },
    {
     "data": {
      "image/png": "[encoded data removed]",
      "text/plain": [
       "<Figure size 900x900 with 30 Axes>"
      ]
     },
     "metadata": {
      "needs_background": "light"
     },
     "output_type": "display_data"
    }
   ],
   "source": [
    "sns.pairplot(data=df)"
   ]
  },
  {
   "cell_type": "markdown",
   "id": "d2bf39df",
   "metadata": {},
   "source": [
    "# Seperating the independant and dependant features"
   ]
  },
  {
   "cell_type": "code",
   "execution_count": 25,
   "id": "c3da5940",
   "metadata": {},
   "outputs": [
    {
     "data": {
      "text/html": [
       "<div>\n",
       "<style scoped>\n",
       "    .dataframe tbody tr th:only-of-type {\n",
       "        vertical-align: middle;\n",
       "    }\n",
       "\n",
       "    .dataframe tbody tr th {\n",
       "        vertical-align: top;\n",
       "    }\n",
       "\n",
       "    .dataframe thead th {\n",
       "        text-align: right;\n",
       "    }\n",
       "</style>\n",
       "<table border=\"1\" class=\"dataframe\">\n",
       "  <thead>\n",
       "    <tr style=\"text-align: right;\">\n",
       "      <th></th>\n",
       "      <th>Selling_Price</th>\n",
       "    </tr>\n",
       "  </thead>\n",
       "  <tbody>\n",
       "    <tr>\n",
       "      <th>0</th>\n",
       "      <td>3.35</td>\n",
       "    </tr>\n",
       "    <tr>\n",
       "      <th>1</th>\n",
       "      <td>4.75</td>\n",
       "    </tr>\n",
       "    <tr>\n",
       "      <th>2</th>\n",
       "      <td>7.25</td>\n",
       "    </tr>\n",
       "    <tr>\n",
       "      <th>3</th>\n",
       "      <td>2.85</td>\n",
       "    </tr>\n",
       "    <tr>\n",
       "      <th>4</th>\n",
       "      <td>4.60</td>\n",
       "    </tr>\n",
       "  </tbody>\n",
       "</table>\n",
       "</div>"
      ],
      "text/plain": [
       "   Selling_Price\n",
       "0           3.35\n",
       "1           4.75\n",
       "2           7.25\n",
       "3           2.85\n",
       "4           4.60"
      ]
     },
     "execution_count": 25,
     "metadata": {},
     "output_type": "execute_result"
    }
   ],
   "source": [
    "#y becomes dependent features\n",
    "Y=df[['Selling_Price']]\n",
    "Y.head()"
   ]
  },
  {
   "cell_type": "code",
   "execution_count": 32,
   "id": "de9e37fe",
   "metadata": {},
   "outputs": [
    {
     "data": {
      "text/html": [
       "<div>\n",
       "<style scoped>\n",
       "    .dataframe tbody tr th:only-of-type {\n",
       "        vertical-align: middle;\n",
       "    }\n",
       "\n",
       "    .dataframe tbody tr th {\n",
       "        vertical-align: top;\n",
       "    }\n",
       "\n",
       "    .dataframe thead th {\n",
       "        text-align: right;\n",
       "    }\n",
       "</style>\n",
       "<table border=\"1\" class=\"dataframe\">\n",
       "  <thead>\n",
       "    <tr style=\"text-align: right;\">\n",
       "      <th></th>\n",
       "      <th>Year</th>\n",
       "      <th>Present_Price</th>\n",
       "      <th>Kms_Driven</th>\n",
       "      <th>Fuel_Type</th>\n",
       "      <th>Seller_Type</th>\n",
       "      <th>Transmission</th>\n",
       "      <th>Owner</th>\n",
       "    </tr>\n",
       "  </thead>\n",
       "  <tbody>\n",
       "    <tr>\n",
       "      <th>0</th>\n",
       "      <td>2014</td>\n",
       "      <td>5.59</td>\n",
       "      <td>27000</td>\n",
       "      <td>Petrol</td>\n",
       "      <td>Dealer</td>\n",
       "      <td>Manual</td>\n",
       "      <td>0</td>\n",
       "    </tr>\n",
       "    <tr>\n",
       "      <th>1</th>\n",
       "      <td>2013</td>\n",
       "      <td>9.54</td>\n",
       "      <td>43000</td>\n",
       "      <td>Diesel</td>\n",
       "      <td>Dealer</td>\n",
       "      <td>Manual</td>\n",
       "      <td>0</td>\n",
       "    </tr>\n",
       "    <tr>\n",
       "      <th>2</th>\n",
       "      <td>2017</td>\n",
       "      <td>9.85</td>\n",
       "      <td>6900</td>\n",
       "      <td>Petrol</td>\n",
       "      <td>Dealer</td>\n",
       "      <td>Manual</td>\n",
       "      <td>0</td>\n",
       "    </tr>\n",
       "    <tr>\n",
       "      <th>3</th>\n",
       "      <td>2011</td>\n",
       "      <td>4.15</td>\n",
       "      <td>5200</td>\n",
       "      <td>Petrol</td>\n",
       "      <td>Dealer</td>\n",
       "      <td>Manual</td>\n",
       "      <td>0</td>\n",
       "    </tr>\n",
       "    <tr>\n",
       "      <th>4</th>\n",
       "      <td>2014</td>\n",
       "      <td>6.87</td>\n",
       "      <td>42450</td>\n",
       "      <td>Diesel</td>\n",
       "      <td>Dealer</td>\n",
       "      <td>Manual</td>\n",
       "      <td>0</td>\n",
       "    </tr>\n",
       "  </tbody>\n",
       "</table>\n",
       "</div>"
      ],
      "text/plain": [
       "   Year  Present_Price  Kms_Driven Fuel_Type Seller_Type Transmission  Owner\n",
       "0  2014           5.59       27000    Petrol      Dealer       Manual      0\n",
       "1  2013           9.54       43000    Diesel      Dealer       Manual      0\n",
       "2  2017           9.85        6900    Petrol      Dealer       Manual      0\n",
       "3  2011           4.15        5200    Petrol      Dealer       Manual      0\n",
       "4  2014           6.87       42450    Diesel      Dealer       Manual      0"
      ]
     },
     "execution_count": 32,
     "metadata": {},
     "output_type": "execute_result"
    }
   ],
   "source": [
    "#dropiing sellig price since its a dependent variable and car name we can drop since its has many  diff car\n",
    "# x becomes independent features \n",
    "X=df.drop(['Selling_Price','Car_Name'],axis=1)\n",
    "X.head()"
   ]
  },
  {
   "cell_type": "code",
   "execution_count": 36,
   "id": "877930c6",
   "metadata": {},
   "outputs": [
    {
     "data": {
      "text/plain": [
       "array([0, 1, 3], dtype=int64)"
      ]
     },
     "execution_count": 36,
     "metadata": {},
     "output_type": "execute_result"
    }
   ],
   "source": [
    "df['Owner'].unique()"
   ]
  },
  {
   "cell_type": "code",
   "execution_count": 37,
   "id": "44ec0741",
   "metadata": {},
   "outputs": [],
   "source": [
    "df['Fuel_Type']=df['Fuel_Type'].map({'Petrol':0,'Diesel':1,'CNG':3}).astype(int)\n",
    "df['Seller_Type']=df['Seller_Type'].map({'Dealer':0,'Individual':1}).astype(int)\n",
    "df['Transmission']=df['Transmission'].map({'Manual':0,'Automatic':1}).astype(int)\n",
    "df['Owner']=df['Owner'].replace(3,2)"
   ]
  },
  {
   "cell_type": "code",
   "execution_count": 38,
   "id": "5299f936",
   "metadata": {},
   "outputs": [
    {
     "name": "stdout",
     "output_type": "stream",
     "text": [
      "<class 'pandas.core.frame.DataFrame'>\n",
      "RangeIndex: 301 entries, 0 to 300\n",
      "Data columns (total 9 columns):\n",
      " #   Column         Non-Null Count  Dtype  \n",
      "---  ------         --------------  -----  \n",
      " 0   Car_Name       301 non-null    object \n",
      " 1   Year           301 non-null    int64  \n",
      " 2   Selling_Price  301 non-null    float64\n",
      " 3   Present_Price  301 non-null    float64\n",
      " 4   Kms_Driven     301 non-null    int64  \n",
      " 5   Fuel_Type      301 non-null    int32  \n",
      " 6   Seller_Type    301 non-null    int32  \n",
      " 7   Transmission   301 non-null    int32  \n",
      " 8   Owner          301 non-null    int64  \n",
      "dtypes: float64(2), int32(3), int64(3), object(1)\n",
      "memory usage: 17.8+ KB\n"
     ]
    }
   ],
   "source": [
    "df.info()"
   ]
  },
  {
   "cell_type": "code",
   "execution_count": 39,
   "id": "54af97c0",
   "metadata": {},
   "outputs": [
    {
     "data": {
      "text/html": [
       "<div>\n",
       "<style scoped>\n",
       "    .dataframe tbody tr th:only-of-type {\n",
       "        vertical-align: middle;\n",
       "    }\n",
       "\n",
       "    .dataframe tbody tr th {\n",
       "        vertical-align: top;\n",
       "    }\n",
       "\n",
       "    .dataframe thead th {\n",
       "        text-align: right;\n",
       "    }\n",
       "</style>\n",
       "<table border=\"1\" class=\"dataframe\">\n",
       "  <thead>\n",
       "    <tr style=\"text-align: right;\">\n",
       "      <th></th>\n",
       "      <th>Year</th>\n",
       "      <th>Present_Price</th>\n",
       "      <th>Kms_Driven</th>\n",
       "      <th>Fuel_Type</th>\n",
       "      <th>Seller_Type</th>\n",
       "      <th>Transmission</th>\n",
       "      <th>Owner</th>\n",
       "    </tr>\n",
       "  </thead>\n",
       "  <tbody>\n",
       "    <tr>\n",
       "      <th>0</th>\n",
       "      <td>2014</td>\n",
       "      <td>5.59</td>\n",
       "      <td>27000</td>\n",
       "      <td>0</td>\n",
       "      <td>0</td>\n",
       "      <td>0</td>\n",
       "      <td>0</td>\n",
       "    </tr>\n",
       "    <tr>\n",
       "      <th>1</th>\n",
       "      <td>2013</td>\n",
       "      <td>9.54</td>\n",
       "      <td>43000</td>\n",
       "      <td>1</td>\n",
       "      <td>0</td>\n",
       "      <td>0</td>\n",
       "      <td>0</td>\n",
       "    </tr>\n",
       "    <tr>\n",
       "      <th>2</th>\n",
       "      <td>2017</td>\n",
       "      <td>9.85</td>\n",
       "      <td>6900</td>\n",
       "      <td>0</td>\n",
       "      <td>0</td>\n",
       "      <td>0</td>\n",
       "      <td>0</td>\n",
       "    </tr>\n",
       "    <tr>\n",
       "      <th>3</th>\n",
       "      <td>2011</td>\n",
       "      <td>4.15</td>\n",
       "      <td>5200</td>\n",
       "      <td>0</td>\n",
       "      <td>0</td>\n",
       "      <td>0</td>\n",
       "      <td>0</td>\n",
       "    </tr>\n",
       "    <tr>\n",
       "      <th>4</th>\n",
       "      <td>2014</td>\n",
       "      <td>6.87</td>\n",
       "      <td>42450</td>\n",
       "      <td>1</td>\n",
       "      <td>0</td>\n",
       "      <td>0</td>\n",
       "      <td>0</td>\n",
       "    </tr>\n",
       "  </tbody>\n",
       "</table>\n",
       "</div>"
      ],
      "text/plain": [
       "   Year  Present_Price  Kms_Driven  Fuel_Type  Seller_Type  Transmission  \\\n",
       "0  2014           5.59       27000          0            0             0   \n",
       "1  2013           9.54       43000          1            0             0   \n",
       "2  2017           9.85        6900          0            0             0   \n",
       "3  2011           4.15        5200          0            0             0   \n",
       "4  2014           6.87       42450          1            0             0   \n",
       "\n",
       "   Owner  \n",
       "0      0  \n",
       "1      0  \n",
       "2      0  \n",
       "3      0  \n",
       "4      0  "
      ]
     },
     "execution_count": 39,
     "metadata": {},
     "output_type": "execute_result"
    }
   ],
   "source": [
    "X=df.drop(['Selling_Price','Car_Name'],axis=1)\n",
    "X.head()"
   ]
  },
  {
   "cell_type": "markdown",
   "id": "e3539980",
   "metadata": {},
   "source": [
    "# Fitting and comparing 3 different regression models\n",
    "1. Linear Regression 2. RIdge Regression 3. Lasso regression"
   ]
  },
  {
   "cell_type": "code",
   "execution_count": 27,
   "id": "b5ccbe70",
   "metadata": {},
   "outputs": [],
   "source": [
    "# while creating linear regression we should consider all the 3 diff regression models"
   ]
  },
  {
   "cell_type": "markdown",
   "id": "95bbd261",
   "metadata": {},
   "source": [
    "# first we proceed with applying ML model we need to have data to be split into test data and train data"
   ]
  },
  {
   "cell_type": "code",
   "execution_count": 29,
   "id": "e2100e94",
   "metadata": {},
   "outputs": [],
   "source": [
    "#Train test Split The data\n",
    "#import required libraries to perform ML-model\n",
    "#we set random_state to some numbers , if we not set then everytime we get different data sets of value"
   ]
  },
  {
   "cell_type": "code",
   "execution_count": 41,
   "id": "95e5f0cb",
   "metadata": {},
   "outputs": [],
   "source": [
    "from sklearn.model_selection import train_test_split\n",
    "\n",
    "X_train,X_test,Y_train,Y_test = train_test_split(X,Y,test_size=0.3, random_state=42)"
   ]
  },
  {
   "cell_type": "markdown",
   "id": "5882d9e7",
   "metadata": {},
   "source": [
    "Fitting a simple Linear regression model"
   ]
  },
  {
   "cell_type": "code",
   "execution_count": 42,
   "id": "4bae9197",
   "metadata": {},
   "outputs": [],
   "source": [
    "#standard scallar is used to convert to data into scaled one for better and fast execution of a data\n",
    "\n",
    "from sklearn.linear_model import LinearRegression\n",
    "from sklearn.preprocessing import StandardScaler\n",
    "\n",
    "s=StandardScaler()\n",
    "\n",
    "X_train_S = s.fit_transform(X_train)\n",
    "\n",
    "linear = LinearRegression().fit(X_train_S, Y_train)\n",
    "\n",
    "X_test_S=s.transform(X_test)"
   ]
  },
  {
   "cell_type": "code",
   "execution_count": 45,
   "id": "cee345cf",
   "metadata": {},
   "outputs": [
    {
     "data": {
      "text/plain": [
       "array([[-1.99046855, -0.76923237, -0.83904661, ...,  1.35566878,\n",
       "         2.85139173, -0.20327891],\n",
       "       [-0.24444351,  1.26268234,  0.43381798, ..., -0.73764331,\n",
       "        -0.35070593, -0.20327891],\n",
       "       [ 0.80317152,  0.38139709,  0.12793616, ..., -0.73764331,\n",
       "        -0.35070593, -0.20327891],\n",
       "       ...,\n",
       "       [ 0.1047615 , -0.44579392, -0.49554421, ...,  1.35566878,\n",
       "        -0.35070593,  4.06557814],\n",
       "       [-0.94285352,  0.292367  ,  0.74767564, ..., -0.73764331,\n",
       "        -0.35070593, -0.20327891],\n",
       "       [ 1.15237653, -0.63399678, -0.78963873, ...,  1.35566878,\n",
       "        -0.35070593, -0.20327891]])"
      ]
     },
     "execution_count": 45,
     "metadata": {},
     "output_type": "execute_result"
    }
   ],
   "source": [
    "X_train_S"
   ]
  },
  {
   "cell_type": "code",
   "execution_count": 46,
   "id": "ab2b83d5",
   "metadata": {},
   "outputs": [
    {
     "data": {
      "text/plain": [
       "array([[ 0.80317152, -0.77035933, -0.31908751, -0.45853503,  1.35566878,\n",
       "         2.85139173, -0.20327891],\n",
       "       [ 0.80317152,  0.69807376, -0.62541635, -0.45853503, -0.73764331,\n",
       "        -0.35070593, -0.20327891],\n",
       "       [-0.59364851,  0.2247492 ,  0.52790469,  1.63477706, -0.73764331,\n",
       "        -0.35070593, -0.20327891],\n",
       "       [-0.94285352, -0.77035933, -0.06028433, -0.45853503,  1.35566878,\n",
       "        -0.35070593,  4.06557814],\n",
       "       [-0.24444351,  1.26268234,  0.057377  , -0.45853503, -0.73764331,\n",
       "        -0.35070593, -0.20327891],\n",
       "       [ 0.45396651,  0.17065497,  0.11304321,  1.63477706, -0.73764331,\n",
       "        -0.35070593, -0.20327891],\n",
       "       [ 0.45396651, -0.66893264, -0.27203238, -0.45853503,  1.35566878,\n",
       "        -0.35070593, -0.20327891],\n",
       "       [ 0.1047615 , -0.73542347, -0.69552848, -0.45853503,  1.35566878,\n",
       "        -0.35070593, -0.20327891],\n",
       "       [ 0.80317152, -0.77374022, -0.55436312, -0.45853503,  1.35566878,\n",
       "        -0.35070593, -0.20327891],\n",
       "       [ 0.1047615 ,  0.28673218,  0.17499128,  1.63477706, -0.73764331,\n",
       "        -0.35070593, -0.20327891],\n",
       "       [ 1.50158154,  0.27320862, -0.83502339,  1.63477706, -0.73764331,\n",
       "        -0.35070593, -0.20327891],\n",
       "       [-0.24444351, -0.66893264, -0.10733946, -0.45853503,  1.35566878,\n",
       "        -0.35070593, -0.20327891],\n",
       "       [ 0.1047615 ,  0.5222675 , -0.53083556, -0.45853503, -0.73764331,\n",
       "         2.85139173, -0.20327891],\n",
       "       [ 1.15237653, -0.77712111, -0.85316314, -0.45853503,  1.35566878,\n",
       "         2.85139173, -0.20327891],\n",
       "       [-0.24444351,  0.2247492 ,  0.17499128,  1.63477706, -0.73764331,\n",
       "        -0.35070593, -0.20327891],\n",
       "       [-0.24444351, -0.28351121,  0.6345316 , -0.45853503, -0.73764331,\n",
       "        -0.35070593, -0.20327891],\n",
       "       [-0.59364851, -0.63737767, -0.61318202, -0.45853503,  1.35566878,\n",
       "        -0.35070593, -0.20327891],\n",
       "       [ 1.15237653,  1.26606323, -0.67905919, -0.45853503, -0.73764331,\n",
       "        -0.35070593, -0.20327891],\n",
       "       [ 1.15237653, -0.77374022, -0.68141195, -0.45853503,  1.35566878,\n",
       "        -0.35070593, -0.20327891],\n",
       "       [ 1.15237653, -0.62948893, -0.85081039, -0.45853503,  1.35566878,\n",
       "        -0.35070593, -0.20327891],\n",
       "       [-0.24444351, -0.75232792, -0.60141824, -0.45853503,  1.35566878,\n",
       "        -0.35070593, -0.20327891],\n",
       "       [ 0.80317152,  0.2247492 , -0.42651435,  1.63477706, -0.73764331,\n",
       "        -0.35070593, -0.20327891],\n",
       "       [-0.59364851,  0.2247492 , -0.12329114,  1.63477706, -0.73764331,\n",
       "        -0.35070593, -0.20327891],\n",
       "       [-0.94285352, -0.27224158, -0.41319775, -0.45853503, -0.73764331,\n",
       "        -0.35070593, -0.20327891],\n",
       "       [ 0.1047615 , -0.72302688, -0.29555994, -0.45853503,  1.35566878,\n",
       "        -0.35070593, -0.20327891],\n",
       "       [-0.59364851, -0.0693882 , -0.06028433, -0.45853503, -0.73764331,\n",
       "        -0.35070593, -0.20327891],\n",
       "       [-0.24444351,  0.28109737,  0.45028727, -0.45853503, -0.73764331,\n",
       "        -0.35070593, -0.20327891],\n",
       "       [-0.94285352, -0.19110023,  0.12793616, -0.45853503, -0.73764331,\n",
       "        -0.35070593, -0.20327891],\n",
       "       [ 1.15237653, -0.66893264, -0.6249458 , -0.45853503,  1.35566878,\n",
       "        -0.35070593, -0.20327891],\n",
       "       [ 0.80317152, -0.66555175, -0.46025287, -0.45853503,  1.35566878,\n",
       "        -0.35070593, -0.20327891],\n",
       "       [-0.24444351, -0.74590423, -0.50730799, -0.45853503,  1.35566878,\n",
       "        -0.35070593, -0.20327891],\n",
       "       [ 0.1047615 ,  0.74315229,  0.59848738,  1.63477706, -0.73764331,\n",
       "        -0.35070593, -0.20327891],\n",
       "       [-1.29205853, -0.72753473, -0.24850482, -0.45853503,  1.35566878,\n",
       "        -0.35070593, -0.20327891],\n",
       "       [-1.99046855, -0.02881752,  0.48084957, -0.45853503, -0.73764331,\n",
       "        -0.35070593, -0.20327891],\n",
       "       [ 0.80317152,  0.38139709,  0.12793616,  1.63477706, -0.73764331,\n",
       "        -0.35070593, -0.20327891],\n",
       "       [ 0.1047615 , -0.04572197, -0.06028433, -0.45853503, -0.73764331,\n",
       "        -0.35070593, -0.20327891],\n",
       "       [-0.24444351,  0.81978579,  0.81023543, -0.45853503, -0.73764331,\n",
       "        -0.35070593, -0.20327891],\n",
       "       [-1.64126354,  1.26268234,  0.57495982, -0.45853503, -0.73764331,\n",
       "        -0.35070593, -0.20327891],\n",
       "       [-0.24444351, -0.33760545,  0.45447518, -0.45853503, -0.73764331,\n",
       "        -0.35070593, -0.20327891],\n",
       "       [-1.29205853,  1.2547936 ,  0.29262908, -0.45853503, -0.73764331,\n",
       "        -0.35070593, -0.20327891],\n",
       "       [-3.03808357,  0.70934339,  0.88081811, -0.45853503, -0.73764331,\n",
       "        -0.35070593, -0.20327891],\n",
       "       [-3.38728858,  0.55720336,  2.29609502, -0.45853503, -0.73764331,\n",
       "         2.85139173, -0.20327891],\n",
       "       [ 0.1047615 , -0.11333977, -0.43672531, -0.45853503, -0.73764331,\n",
       "        -0.35070593, -0.20327891],\n",
       "       [ 0.1047615 , -0.74331221,  0.10440859, -0.45853503,  1.35566878,\n",
       "        -0.35070593, -0.20327891],\n",
       "       [ 0.45396651,  0.13571911, -0.09724613,  1.63477706, -0.73764331,\n",
       "        -0.35070593, -0.20327891],\n",
       "       [-0.24444351, -0.69936065, -0.13086702, -0.45853503,  1.35566878,\n",
       "        -0.35070593, -0.20327891],\n",
       "       [ 0.1047615 ,  0.69807376,  0.06031794, -0.45853503, -0.73764331,\n",
       "        -0.35070593, -0.20327891],\n",
       "       [-1.29205853,  1.73826083,  0.99845592, -0.45853503, -0.73764331,\n",
       "         2.85139173, -0.20327891],\n",
       "       [-0.24444351, -0.31619315, -0.17792214, -0.45853503, -0.73764331,\n",
       "        -0.35070593, -0.20327891],\n",
       "       [-0.59364851, -0.0693882 ,  0.34278984,  1.63477706, -0.73764331,\n",
       "        -0.35070593, -0.20327891],\n",
       "       [-0.24444351,  0.2247492 , -0.03209832, -0.45853503, -0.73764331,\n",
       "         2.85139173, -0.20327891],\n",
       "       [ 1.15237653, -0.66893264, -0.78728597, -0.45853503,  1.35566878,\n",
       "        -0.35070593, -0.20327891],\n",
       "       [ 0.45396651,  3.21796355,  0.2220464 ,  1.63477706, -0.73764331,\n",
       "         2.85139173, -0.20327891],\n",
       "       [ 1.15237653,  2.02676342, -0.53083556,  1.63477706, -0.73764331,\n",
       "         2.85139173, -0.20327891],\n",
       "       [ 0.45396651,  0.2247492 ,  0.56039626,  1.63477706, -0.73764331,\n",
       "        -0.35070593, -0.20327891],\n",
       "       [ 0.80317152,  0.69807376, -0.16020589, -0.45853503, -0.73764331,\n",
       "         2.85139173, -0.20327891],\n",
       "       [ 0.45396651, -0.19222719, -0.77806317, -0.45853503, -0.73764331,\n",
       "        -0.35070593, -0.20327891],\n",
       "       [ 0.80317152,  0.47268112, -0.08409423,  1.63477706, -0.73764331,\n",
       "        -0.35070593, -0.20327891],\n",
       "       [-2.68887857,  0.02189582,  0.30335765, -0.45853503, -0.73764331,\n",
       "        -0.35070593, -0.20327891],\n",
       "       [ 0.80317152,  0.12332251, -0.52944743, -0.45853503, -0.73764331,\n",
       "         2.85139173, -0.20327891],\n",
       "       [-0.24444351, -0.76923237, -0.17792214, -0.45853503,  1.35566878,\n",
       "        -0.35070593, -0.20327891],\n",
       "       [-1.99046855, -0.75007399, -0.27203238, -0.45853503,  1.35566878,\n",
       "        -0.35070593,  4.06557814],\n",
       "       [ 1.15237653, -0.72753473, -0.80140251, -0.45853503,  1.35566878,\n",
       "        -0.35070593, -0.20327891],\n",
       "       [-1.99046855, -0.74590423,  0.29262908, -0.45853503,  1.35566878,\n",
       "        -0.35070593, -0.20327891],\n",
       "       [ 0.45396651, -0.06826124, -0.03675677, -0.45853503, -0.73764331,\n",
       "        -0.35070593, -0.20327891],\n",
       "       [ 0.80317152, -0.66555175, -0.67905919, -0.45853503,  1.35566878,\n",
       "        -0.35070593, -0.20327891],\n",
       "       [ 0.1047615 ,  3.21796355,  0.08088103,  1.63477706, -0.73764331,\n",
       "         2.85139173, -0.20327891],\n",
       "       [ 0.45396651,  2.61503822,  0.05735347,  1.63477706, -0.73764331,\n",
       "         2.85139173, -0.20327891],\n",
       "       [ 0.45396651,  0.08049791, -0.44152493, -0.45853503, -0.73764331,\n",
       "        -0.35070593, -0.20327891],\n",
       "       [-0.94285352, -0.74590423,  0.88081811, -0.45853503,  1.35566878,\n",
       "        -0.35070593, -0.20327891],\n",
       "       [-0.59364851, -0.16067222,  0.32648524,  1.63477706, -0.73764331,\n",
       "        -0.35070593, -0.20327891],\n",
       "       [-0.94285352,  0.06810131,  0.29262908, -0.45853503, -0.73764331,\n",
       "         2.85139173, -0.20327891],\n",
       "       [ 0.80317152,  0.05570472, -0.21159008, -0.45853503, -0.73764331,\n",
       "        -0.35070593, -0.20327891],\n",
       "       [ 0.45396651, -0.01529396,  0.06991719, -0.45853503, -0.73764331,\n",
       "        -0.35070593, -0.20327891],\n",
       "       [-0.59364851, -0.33535152, -0.32593403, -0.45853503, -0.73764331,\n",
       "        -0.35070593, -0.20327891],\n",
       "       [ 0.80317152, -0.67682138, -0.06028433, -0.45853503,  1.35566878,\n",
       "        -0.35070593, -0.20327891],\n",
       "       [ 1.15237653, -0.73993132, -0.76611117, -0.45853503,  1.35566878,\n",
       "        -0.35070593, -0.20327891],\n",
       "       [ 0.45396651,  0.83218239, -0.58024343, -0.45853503, -0.73764331,\n",
       "         2.85139173, -0.20327891],\n",
       "       [ 0.45396651, -0.79853341, -0.06028433, -0.45853503,  1.35566878,\n",
       "        -0.35070593, -0.20327891],\n",
       "       [ 0.45396651,  0.69807376, -0.37131869, -0.45853503, -0.73764331,\n",
       "        -0.35070593, -0.20327891],\n",
       "       [ 0.45396651, -0.16968793, -0.5434228 , -0.45853503, -0.73764331,\n",
       "        -0.35070593, -0.20327891],\n",
       "       [-0.94285352, -0.0693882 , -0.14018393, -0.45853503, -0.73764331,\n",
       "        -0.35070593, -0.20327891],\n",
       "       [-3.03808357,  0.68229628,  3.75532142,  1.63477706, -0.73764331,\n",
       "        -0.35070593, -0.20327891],\n",
       "       [ 1.15237653,  1.77432365, -0.6249458 , -0.45853503, -0.73764331,\n",
       "         2.85139173, -0.20327891],\n",
       "       [-0.94285352, -0.31619315,  0.37403444, -0.45853503, -0.73764331,\n",
       "        -0.35070593, -0.20327891],\n",
       "       [ 0.80317152, -0.77374022, -0.87198519, -0.45853503,  1.35566878,\n",
       "         2.85139173, -0.20327891],\n",
       "       [-0.24444351, -0.62047322, -0.75670014, -0.45853503,  1.35566878,\n",
       "        -0.35070593, -0.20327891],\n",
       "       [-1.29205853,  0.06472043,  0.09128021, -0.45853503, -0.73764331,\n",
       "        -0.35070593, -0.20327891],\n",
       "       [ 0.80317152, -0.780502  ,  0.29262908, -0.45853503,  1.35566878,\n",
       "        -0.35070593, -0.20327891],\n",
       "       [-0.59364851,  2.61503822,  1.21020397,  1.63477706, -0.73764331,\n",
       "         2.85139173, -0.20327891],\n",
       "       [ 0.45396651, -0.66893264, -0.48378043, -0.45853503,  1.35566878,\n",
       "        -0.35070593, -0.20327891]])"
      ]
     },
     "execution_count": 46,
     "metadata": {},
     "output_type": "execute_result"
    }
   ],
   "source": [
    "X_test_S"
   ]
  },
  {
   "cell_type": "code",
   "execution_count": 47,
   "id": "4606213a",
   "metadata": {},
   "outputs": [],
   "source": [
    "# as we can see above Xtest and xtrain data is done standard scalar"
   ]
  },
  {
   "cell_type": "code",
   "execution_count": 52,
   "id": "b575ec54",
   "metadata": {},
   "outputs": [],
   "source": [
    "from sklearn.metrics import r2_score\n",
    "y_pred=linear.predict(X_test_S)"
   ]
  },
  {
   "cell_type": "code",
   "execution_count": 54,
   "id": "0afc77fb",
   "metadata": {},
   "outputs": [],
   "source": [
    "from sklearn.metrics import mean_squared_error\n",
    "\n",
    "\n",
    "def rmse(ytrue, ypredicted):\n",
    "    return np.sqrt(mean_squared_error(ytrue, ypredicted))"
   ]
  },
  {
   "cell_type": "code",
   "execution_count": 58,
   "id": "e8662263",
   "metadata": {},
   "outputs": [
    {
     "data": {
      "text/plain": [
       "1.8715613141799947"
      ]
     },
     "execution_count": 58,
     "metadata": {},
     "output_type": "execute_result"
    }
   ],
   "source": [
    "rmse(Y_test,y_pred)"
   ]
  },
  {
   "cell_type": "code",
   "execution_count": 59,
   "id": "db05e297",
   "metadata": {},
   "outputs": [],
   "source": [
    "# may be This model is working quite fine ! with a root mean square error of just 1.8715613141799947"
   ]
  },
  {
   "cell_type": "markdown",
   "id": "07ae51e2",
   "metadata": {},
   "source": [
    "# Adding Polynomial Features"
   ]
  },
  {
   "cell_type": "code",
   "execution_count": 63,
   "id": "f4a09758",
   "metadata": {},
   "outputs": [],
   "source": [
    "from sklearn.preprocessing import PolynomialFeatures\n",
    "degree = 4\n",
    "pf = PolynomialFeatures(degree)\n",
    "X_poly=pf.fit_transform(X)\n"
   ]
  },
  {
   "cell_type": "code",
   "execution_count": 64,
   "id": "6d8703d5",
   "metadata": {},
   "outputs": [],
   "source": [
    "X_train,X_test,Y_train,Y_test = train_test_split(X_poly,Y,test_size=0.3,random_state=42)"
   ]
  },
  {
   "cell_type": "code",
   "execution_count": 65,
   "id": "2470f529",
   "metadata": {},
   "outputs": [],
   "source": [
    "s=StandardScaler()\n",
    "\n",
    "X_train_S = s.fit_transform(X_train)\n",
    "\n",
    "lr=LinearRegression()\n",
    "\n",
    "lr.fit(X_train_S,Y_train)\n",
    "\n",
    "X_test_S=s.transform(X_test)\n",
    "\n",
    "\n",
    "y_pred=lr.predict(X_test_S)"
   ]
  },
  {
   "cell_type": "code",
   "execution_count": 66,
   "id": "6b23eb5a",
   "metadata": {},
   "outputs": [
    {
     "data": {
      "text/plain": [
       "78.2187294788691"
      ]
     },
     "execution_count": 66,
     "metadata": {},
     "output_type": "execute_result"
    }
   ],
   "source": [
    "rmse(Y_test,y_pred)"
   ]
  },
  {
   "cell_type": "markdown",
   "id": "586c99b2",
   "metadata": {},
   "source": [
    "Whoops ! I guess we added too many polynomial features and made the model too complex . Let's try regularisation and try to find a bias-variance trade off"
   ]
  },
  {
   "cell_type": "markdown",
   "id": "fd3427e0",
   "metadata": {},
   "source": [
    "Root mean square error (RMSE) is one of the standard ways to measure the error of a model in predicting quantitative data."
   ]
  },
  {
   "cell_type": "markdown",
   "id": "41f1092f",
   "metadata": {},
   "source": [
    "# Trying regularization now !"
   ]
  },
  {
   "cell_type": "code",
   "execution_count": 67,
   "id": "0d01879b",
   "metadata": {},
   "outputs": [
    {
     "name": "stdout",
     "output_type": "stream",
     "text": [
      "80.0 1.7086199048327102\n"
     ]
    }
   ],
   "source": [
    "from sklearn.linear_model import RidgeCV\n",
    "\n",
    "alphas = [0.005, 0.05, 0.1, 0.3, 1, 3, 5, 10, 15, 30, 80]\n",
    "\n",
    "ridgeCV = RidgeCV(alphas=alphas, \n",
    "                  cv=4).fit(X_train_S, Y_train)\n",
    "\n",
    "ridgeCV_rmse = rmse(Y_test, ridgeCV.predict(X_test_S))\n",
    "\n",
    "print(ridgeCV.alpha_, ridgeCV_rmse)"
   ]
  },
  {
   "cell_type": "markdown",
   "id": "851e4db6",
   "metadata": {},
   "source": [
    "Ridge regression really helped us bring the rmse back to normal"
   ]
  },
  {
   "cell_type": "code",
   "execution_count": 68,
   "id": "591b46da",
   "metadata": {},
   "outputs": [
    {
     "name": "stderr",
     "output_type": "stream",
     "text": [
      "C:\\Users\\GOPINATH V GOWDA\\anaconda3\\lib\\site-packages\\sklearn\\utils\\validation.py:63: DataConversionWarning: A column-vector y was passed when a 1d array was expected. Please change the shape of y to (n_samples, ), for example using ravel().\n",
      "  return f(*args, **kwargs)\n",
      "C:\\Users\\GOPINATH V GOWDA\\anaconda3\\lib\\site-packages\\sklearn\\linear_model\\_coordinate_descent.py:530: ConvergenceWarning: Objective did not converge. You might want to increase the number of iterations. Duality gap: 2.1881921903977783, tolerance: 0.307077306\n",
      "  model = cd_fast.enet_coordinate_descent(\n",
      "C:\\Users\\GOPINATH V GOWDA\\anaconda3\\lib\\site-packages\\sklearn\\linear_model\\_coordinate_descent.py:530: ConvergenceWarning: Objective did not converge. You might want to increase the number of iterations. Duality gap: 12.662897078961105, tolerance: 0.307077306\n",
      "  model = cd_fast.enet_coordinate_descent(\n",
      "C:\\Users\\GOPINATH V GOWDA\\anaconda3\\lib\\site-packages\\sklearn\\linear_model\\_coordinate_descent.py:530: ConvergenceWarning: Objective did not converge. You might want to increase the number of iterations. Duality gap: 14.884722285715716, tolerance: 0.307077306\n",
      "  model = cd_fast.enet_coordinate_descent(\n",
      "C:\\Users\\GOPINATH V GOWDA\\anaconda3\\lib\\site-packages\\sklearn\\linear_model\\_coordinate_descent.py:530: ConvergenceWarning: Objective did not converge. You might want to increase the number of iterations. Duality gap: 16.92800281089476, tolerance: 0.307077306\n",
      "  model = cd_fast.enet_coordinate_descent(\n",
      "C:\\Users\\GOPINATH V GOWDA\\anaconda3\\lib\\site-packages\\sklearn\\linear_model\\_coordinate_descent.py:530: ConvergenceWarning: Objective did not converge. You might want to increase the number of iterations. Duality gap: 2.1953361403543212, tolerance: 0.32651785999999994\n",
      "  model = cd_fast.enet_coordinate_descent(\n",
      "C:\\Users\\GOPINATH V GOWDA\\anaconda3\\lib\\site-packages\\sklearn\\linear_model\\_coordinate_descent.py:530: ConvergenceWarning: Objective did not converge. You might want to increase the number of iterations. Duality gap: 23.840305710986296, tolerance: 0.32651785999999994\n",
      "  model = cd_fast.enet_coordinate_descent(\n",
      "C:\\Users\\GOPINATH V GOWDA\\anaconda3\\lib\\site-packages\\sklearn\\linear_model\\_coordinate_descent.py:530: ConvergenceWarning: Objective did not converge. You might want to increase the number of iterations. Duality gap: 24.681401574578018, tolerance: 0.32651785999999994\n",
      "  model = cd_fast.enet_coordinate_descent(\n",
      "C:\\Users\\GOPINATH V GOWDA\\anaconda3\\lib\\site-packages\\sklearn\\linear_model\\_coordinate_descent.py:530: ConvergenceWarning: Objective did not converge. You might want to increase the number of iterations. Duality gap: 26.42976725115165, tolerance: 0.32651785999999994\n",
      "  model = cd_fast.enet_coordinate_descent(\n",
      "C:\\Users\\GOPINATH V GOWDA\\anaconda3\\lib\\site-packages\\sklearn\\linear_model\\_coordinate_descent.py:530: ConvergenceWarning: Objective did not converge. You might want to increase the number of iterations. Duality gap: 1.0877808511879863, tolerance: 0.3971197168571428\n",
      "  model = cd_fast.enet_coordinate_descent(\n",
      "C:\\Users\\GOPINATH V GOWDA\\anaconda3\\lib\\site-packages\\sklearn\\linear_model\\_coordinate_descent.py:530: ConvergenceWarning: Objective did not converge. You might want to increase the number of iterations. Duality gap: 18.51928774380047, tolerance: 0.3971197168571428\n",
      "  model = cd_fast.enet_coordinate_descent(\n",
      "C:\\Users\\GOPINATH V GOWDA\\anaconda3\\lib\\site-packages\\sklearn\\linear_model\\_coordinate_descent.py:530: ConvergenceWarning: Objective did not converge. You might want to increase the number of iterations. Duality gap: 19.277675262782026, tolerance: 0.3971197168571428\n",
      "  model = cd_fast.enet_coordinate_descent(\n",
      "C:\\Users\\GOPINATH V GOWDA\\anaconda3\\lib\\site-packages\\sklearn\\linear_model\\_coordinate_descent.py:530: ConvergenceWarning: Objective did not converge. You might want to increase the number of iterations. Duality gap: 20.089780601896848, tolerance: 0.3971197168571428\n",
      "  model = cd_fast.enet_coordinate_descent(\n"
     ]
    },
    {
     "name": "stdout",
     "output_type": "stream",
     "text": [
      "0.0005 4.937156236734335\n"
     ]
    },
    {
     "name": "stderr",
     "output_type": "stream",
     "text": [
      "C:\\Users\\GOPINATH V GOWDA\\anaconda3\\lib\\site-packages\\sklearn\\linear_model\\_coordinate_descent.py:530: ConvergenceWarning: Objective did not converge. You might want to increase the number of iterations. Duality gap: 1.178881251573884, tolerance: 0.5153953598095238\n",
      "  model = cd_fast.enet_coordinate_descent(\n"
     ]
    }
   ],
   "source": [
    "from sklearn.linear_model import LassoCV\n",
    "\n",
    "alphas2 = np.array([1e-5, 5e-5, 0.0001, 0.0005])\n",
    "\n",
    "lassoCV = LassoCV(alphas=alphas2,\n",
    "                  max_iter=5e4,\n",
    "                  cv=3).fit(X_train_S, Y_train)\n",
    "\n",
    "lassoCV_rmse = rmse(Y_test, lassoCV.predict(X_test_S))\n",
    "\n",
    "print(lassoCV.alpha_, lassoCV_rmse)  # Lasso is slower"
   ]
  },
  {
   "cell_type": "markdown",
   "id": "e98de67d",
   "metadata": {},
   "source": [
    "Conclusions\n",
    "Present price of a car directly influences Selling Price prediction. Both are highly correlated and here directly proportional to each other.\n",
    "Resale value of Automatic vehicle is more than that of a Manual vehicle.\n",
    "Car age is effecting negatively as the Selling Price decreases for an older car.\n",
    "Resale value of cars with Fuel type Diesel is higher.\n",
    "Lasso Regression (lamba=0.0005) performs better than Ridge Regression (lambda=1.0) which inturn performs better than a plain ol Simple linear Regression model Adding Too many polynomial features to this model was a mistake which was corrected by reguralization"
   ]
  },
  {
   "cell_type": "markdown",
   "id": "13117bfb",
   "metadata": {},
   "source": [
    "# Suggestions"
   ]
  },
  {
   "cell_type": "markdown",
   "id": "51819b03",
   "metadata": {},
   "source": [
    "My Suggestions to you to further increase the accuracy of the prediction is to find more features for the same cars from any cars data like their horsepower, Max-Rpm , Torque , Turning Radius , How many seater car it is , Colour of the car etc . Adding these features and then creating polynomial features and using regularization might increase the accuracy of prediction even more"
   ]
  },
  {
   "cell_type": "code",
   "execution_count": null,
   "id": "41701c1c",
   "metadata": {},
   "outputs": [],
   "source": []
  }
 ],
 "metadata": {
  "kernelspec": {
   "display_name": "Python 3 (ipykernel)",
   "language": "python",
   "name": "python3"
  },
  "language_info": {
   "codemirror_mode": {
    "name": "ipython",
    "version": 3
   },
   "file_extension": ".py",
   "mimetype": "text/x-python",
   "name": "python",
   "nbconvert_exporter": "python",
   "pygments_lexer": "ipython3",
   "version": "3.9.7"
  }
 },
 "nbformat": 4,
 "nbformat_minor": 5
}
